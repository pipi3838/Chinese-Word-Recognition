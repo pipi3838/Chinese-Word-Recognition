{
 "cells": [
  {
   "cell_type": "code",
   "execution_count": 12,
   "metadata": {},
   "outputs": [],
   "source": [
    "from glob import glob\n",
    "import os\n",
    "from collections import defaultdict\n",
    "import cv2\n",
    "from  matplotlib import pyplot as plt\n",
    "from PIL import Image\n",
    "import numpy as np\n",
    "import json\n",
    "from tqdm import tqdm\n",
    "from glob import glob\n",
    "\n",
    "import torch\n",
    "import torch.nn as nn\n",
    "from torch.utils.data import DataLoader, Dataset\n",
    "import torchvision.transforms as transforms\n",
    "import torch.optim as optim\n",
    "\n",
    "from models import Densenet\n",
    "from ImgDataset import ImgDataset, CombineImgDataset\n",
    "from tqdm import tqdm\n",
    "\n",
    "%matplotlib inline\n",
    "\n",
    "path = '/nfs/nas-5.1/wbcheng/Chinese_Word_Recognition/'\n",
    "\n",
    "seed = 5487\n",
    "batch_size = 128\n",
    "device = 'cuda:0'\n",
    "load_model_path = '/nfs/nas-5.1/wbcheng/CWR_models/Desnet_All/{2}_loss.pth'\n",
    "torch.manual_seed(seed)\n",
    "np.random.seed(seed)\n",
    "data_path = './combine_dataset.txt'\n",
    "\n",
    "with open('./word2label.json', 'r', encoding='utf-8') as f:\n",
    "    word2label = json.load(f)\n",
    "label2word = {val:key for key, val in word2label.items()}\n",
    "\n",
    "model = Densenet(len(word2label))\n",
    "model.load_state_dict(torch.load(load_model_path))\n",
    "model = model.to(device)\n",
    "\n",
    "model.eval()\n",
    "softmax = nn.Softmax(dim=1)"
   ]
  },
  {
   "cell_type": "code",
   "execution_count": 41,
   "metadata": {},
   "outputs": [],
   "source": [
    "def preprocess_img(img):\n",
    "    _, thre_img = cv2.threshold(img, 0, 255, cv2.THRESH_OTSU | cv2.THRESH_BINARY_INV)\n",
    "    thre_img = cv2.fastNlMeansDenoising(thre_img, h=13, searchWindowSize=7)\n",
    "    \n",
    "    thre_img = cv2.fastNlMeansDenoising(thre_img, h=13, searchWindowSize=7)\n",
    "    kernel = np.ones((3,3), np.uint8)\n",
    "    thre_img = cv2.erode(thre_img, kernel, iterations = 1)\n",
    "\n",
    "    rect_kernel = cv2.getStructuringElement(cv2.MORPH_RECT, (13, 13))\n",
    "    dilate = cv2.dilate(thre_img, rect_kernel, iterations = 1)\n",
    "    \n",
    "    contours, hierarchy = cv2.findContours(dilate, cv2.RETR_EXTERNAL, cv2.CHAIN_APPROX_NONE)\n",
    "    if len(contours) == 0: bound = cv2.resize(img, (50,50))\n",
    "    else:\n",
    "        max_area = -1\n",
    "        bx, by, bw, bh = None, None, None, None\n",
    "        for cnt in contours:\n",
    "            x, y, w, h = cv2.boundingRect(cnt)\n",
    "            if w * h > max_area:\n",
    "                bx, by, bw, bh = x, y, w, h\n",
    "                max_area = w * h\n",
    "\n",
    "        bound = cv2.resize(img[by:by+bh, bx:bx+bw], (50, 50))\n",
    "        \n",
    "    _, bound = cv2.threshold(bound, 0, 255, cv2.THRESH_OTSU)\n",
    "    bound = cv2.cvtColor(bound, cv2.COLOR_GRAY2BGR)\n",
    "\n",
    "    tmp_bound = bound\n",
    "    transform = transforms.Compose([\n",
    "        transforms.ToPILImage(),\n",
    "        transforms.ToTensor(),\n",
    "        transforms.Normalize(mean=[0.485, 0.456, 0.406], std=[0.229, 0.224, 0.225]),\n",
    "    ])\n",
    "    bound = transform(bound)\n",
    "    \n",
    "    return tmp_bound, bound\n",
    "\n",
    "def predict_img(img):\n",
    "    tmp_bound, img = preprocess_img(img)\n",
    "    img = img.to(device)\n",
    "    img = torch.unsqueeze(img, dim=0)\n",
    "    print(img.shape)\n",
    "    with torch.no_grad():\n",
    "        out = model(img)\n",
    "        out = softmax(out)\n",
    "        val, pred = torch.max(out, 1)\n",
    "        print(pred, val)\n",
    "        pred = label2word[int(pred.item())]\n",
    "    print('Finish prediction')\n",
    "    return pred, tmp_bound"
   ]
  },
  {
   "cell_type": "code",
   "execution_count": 42,
   "metadata": {},
   "outputs": [
    {
     "name": "stdout",
     "output_type": "stream",
     "text": [
      "bound gray shape  (50, 50)\n",
      "bound gray thres  (50, 50)\n",
      "bound adter convert  (50, 50, 3)\n",
      "torch.Size([3, 50, 50])\n",
      "torch.Size([1, 3, 50, 50])\n",
      "tensor([709], device='cuda:0') tensor([0.7602], device='cuda:0')\n",
      "Finish prediction\n",
      "敬\n"
     ]
    },
    {
     "data": {
      "image/png": "[encoded data removed]",
      "text/plain": [
       "<Figure size 432x288 with 1 Axes>"
      ]
     },
     "metadata": {
      "needs_background": "light"
     },
     "output_type": "display_data"
    },
    {
     "name": "stdout",
     "output_type": "stream",
     "text": [
      "\n",
      "bound gray shape  (50, 50)\n",
      "bound gray thres  (50, 50)\n",
      "bound adter convert  (50, 50, 3)\n",
      "torch.Size([3, 50, 50])\n",
      "torch.Size([1, 3, 50, 50])\n",
      "tensor([1], device='cuda:0') tensor([0.9996], device='cuda:0')\n",
      "Finish prediction\n",
      "卓\n"
     ]
    },
    {
     "data": {
      "image/png": "[encoded data removed]",
      "text/plain": [
       "<Figure size 432x288 with 1 Axes>"
      ]
     },
     "metadata": {
      "needs_background": "light"
     },
     "output_type": "display_data"
    },
    {
     "name": "stdout",
     "output_type": "stream",
     "text": [
      "\n",
      "bound gray shape  (50, 50)\n",
      "bound gray thres  (50, 50)\n",
      "bound adter convert  (50, 50, 3)\n",
      "torch.Size([3, 50, 50])\n",
      "torch.Size([1, 3, 50, 50])\n",
      "tensor([2], device='cuda:0') tensor([0.7489], device='cuda:0')\n",
      "Finish prediction\n",
      "逸\n"
     ]
    },
    {
     "data": {
      "image/png": "[encoded data removed]",
      "text/plain": [
       "<Figure size 432x288 with 1 Axes>"
      ]
     },
     "metadata": {
      "needs_background": "light"
     },
     "output_type": "display_data"
    },
    {
     "name": "stdout",
     "output_type": "stream",
     "text": [
      "\n",
      "bound gray shape  (50, 50)\n",
      "bound gray thres  (50, 50)\n",
      "bound adter convert  (50, 50, 3)\n",
      "torch.Size([3, 50, 50])\n",
      "torch.Size([1, 3, 50, 50])\n",
      "tensor([3], device='cuda:0') tensor([0.9815], device='cuda:0')\n",
      "Finish prediction\n",
      "峰\n"
     ]
    },
    {
     "data": {
      "image/png": "[encoded data removed]",
      "text/plain": [
       "<Figure size 432x288 with 1 Axes>"
      ]
     },
     "metadata": {
      "needs_background": "light"
     },
     "output_type": "display_data"
    },
    {
     "name": "stdout",
     "output_type": "stream",
     "text": [
      "\n",
      "bound gray shape  (50, 50)\n",
      "bound gray thres  (50, 50)\n",
      "bound adter convert  (50, 50, 3)\n",
      "torch.Size([3, 50, 50])\n",
      "torch.Size([1, 3, 50, 50])\n",
      "tensor([4], device='cuda:0') tensor([0.9937], device='cuda:0')\n",
      "Finish prediction\n",
      "場\n"
     ]
    },
    {
     "data": {
      "image/png": "[encoded data removed]",
      "text/plain": [
       "<Figure size 432x288 with 1 Axes>"
      ]
     },
     "metadata": {
      "needs_background": "light"
     },
     "output_type": "display_data"
    },
    {
     "ename": "KeyboardInterrupt",
     "evalue": "Interrupted by user",
     "output_type": "error",
     "traceback": [
      "\u001b[0;31m---------------------------------------------------------------------------\u001b[0m",
      "\u001b[0;31mKeyboardInterrupt\u001b[0m                         Traceback (most recent call last)",
      "\u001b[0;32m<ipython-input-42-37fc80884c0e>\u001b[0m in \u001b[0;36m<module>\u001b[0;34m\u001b[0m\n\u001b[1;32m      5\u001b[0m     \u001b[0mplt\u001b[0m\u001b[0;34m.\u001b[0m\u001b[0mimshow\u001b[0m\u001b[0;34m(\u001b[0m\u001b[0mtmp_bound\u001b[0m\u001b[0;34m)\u001b[0m\u001b[0;34m\u001b[0m\u001b[0;34m\u001b[0m\u001b[0m\n\u001b[1;32m      6\u001b[0m     \u001b[0mplt\u001b[0m\u001b[0;34m.\u001b[0m\u001b[0mshow\u001b[0m\u001b[0;34m(\u001b[0m\u001b[0;34m)\u001b[0m\u001b[0;34m\u001b[0m\u001b[0;34m\u001b[0m\u001b[0m\n\u001b[0;32m----> 7\u001b[0;31m     \u001b[0minput\u001b[0m\u001b[0;34m(\u001b[0m\u001b[0;34m)\u001b[0m\u001b[0;34m\u001b[0m\u001b[0;34m\u001b[0m\u001b[0m\n\u001b[0m",
      "\u001b[0;32m~/miniconda3/envs/py3.6.8/lib/python3.6/site-packages/ipykernel/kernelbase.py\u001b[0m in \u001b[0;36mraw_input\u001b[0;34m(self, prompt)\u001b[0m\n\u001b[1;32m    861\u001b[0m             \u001b[0mself\u001b[0m\u001b[0;34m.\u001b[0m\u001b[0m_parent_ident\u001b[0m\u001b[0;34m,\u001b[0m\u001b[0;34m\u001b[0m\u001b[0;34m\u001b[0m\u001b[0m\n\u001b[1;32m    862\u001b[0m             \u001b[0mself\u001b[0m\u001b[0;34m.\u001b[0m\u001b[0m_parent_header\u001b[0m\u001b[0;34m,\u001b[0m\u001b[0;34m\u001b[0m\u001b[0;34m\u001b[0m\u001b[0m\n\u001b[0;32m--> 863\u001b[0;31m             \u001b[0mpassword\u001b[0m\u001b[0;34m=\u001b[0m\u001b[0;32mFalse\u001b[0m\u001b[0;34m,\u001b[0m\u001b[0;34m\u001b[0m\u001b[0;34m\u001b[0m\u001b[0m\n\u001b[0m\u001b[1;32m    864\u001b[0m         )\n\u001b[1;32m    865\u001b[0m \u001b[0;34m\u001b[0m\u001b[0m\n",
      "\u001b[0;32m~/miniconda3/envs/py3.6.8/lib/python3.6/site-packages/ipykernel/kernelbase.py\u001b[0m in \u001b[0;36m_input_request\u001b[0;34m(self, prompt, ident, parent, password)\u001b[0m\n\u001b[1;32m    891\u001b[0m             \u001b[0;32mexcept\u001b[0m \u001b[0mKeyboardInterrupt\u001b[0m\u001b[0;34m:\u001b[0m\u001b[0;34m\u001b[0m\u001b[0;34m\u001b[0m\u001b[0m\n\u001b[1;32m    892\u001b[0m                 \u001b[0;31m# re-raise KeyboardInterrupt, to truncate traceback\u001b[0m\u001b[0;34m\u001b[0m\u001b[0;34m\u001b[0m\u001b[0;34m\u001b[0m\u001b[0m\n\u001b[0;32m--> 893\u001b[0;31m                 \u001b[0;32mraise\u001b[0m \u001b[0mKeyboardInterrupt\u001b[0m\u001b[0;34m(\u001b[0m\u001b[0;34m\"Interrupted by user\"\u001b[0m\u001b[0;34m)\u001b[0m \u001b[0;32mfrom\u001b[0m \u001b[0;32mNone\u001b[0m\u001b[0;34m\u001b[0m\u001b[0;34m\u001b[0m\u001b[0m\n\u001b[0m\u001b[1;32m    894\u001b[0m             \u001b[0;32melse\u001b[0m\u001b[0;34m:\u001b[0m\u001b[0;34m\u001b[0m\u001b[0;34m\u001b[0m\u001b[0m\n\u001b[1;32m    895\u001b[0m                 \u001b[0;32mbreak\u001b[0m\u001b[0;34m\u001b[0m\u001b[0;34m\u001b[0m\u001b[0m\n",
      "\u001b[0;31mKeyboardInterrupt\u001b[0m: Interrupted by user"
     ]
    }
   ],
   "source": [
    "for img_path in glob(os.path.join(path, 'Origin', '*.jpg')):\n",
    "    img = cv2.imread(img_path, 0)\n",
    "    pred_label, tmp_bound = predict_img(img)\n",
    "    print(pred_label)\n",
    "    plt.imshow(tmp_bound)\n",
    "    plt.show()\n",
    "    input()"
   ]
  },
  {
   "cell_type": "code",
   "execution_count": null,
   "metadata": {},
   "outputs": [],
   "source": []
  }
 ],
 "metadata": {
  "kernelspec": {
   "display_name": "Python 3",
   "language": "python",
   "name": "python3"
  },
  "language_info": {
   "codemirror_mode": {
    "name": "ipython",
    "version": 3
   },
   "file_extension": ".py",
   "mimetype": "text/x-python",
   "name": "python",
   "nbconvert_exporter": "python",
   "pygments_lexer": "ipython3",
   "version": "3.6.8"
  }
 },
 "nbformat": 4,
 "nbformat_minor": 4
}
